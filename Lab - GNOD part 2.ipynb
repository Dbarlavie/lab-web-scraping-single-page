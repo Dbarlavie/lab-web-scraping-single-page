{
 "cells": [
  {
   "cell_type": "code",
   "execution_count": 1,
   "id": "a859e756",
   "metadata": {},
   "outputs": [],
   "source": [
    "#Today you are creating a recommender where the user inputs a song title and check if that song is in the list you created.  \n",
    "#If it is,  give a different random song and artist from the list.  \n",
    "#If it is not on the list, let the user know that you have no recommendation at this time."
   ]
  },
  {
   "cell_type": "code",
   "execution_count": 2,
   "id": "4b31dc0b",
   "metadata": {},
   "outputs": [],
   "source": [
    "from bs4 import BeautifulSoup\n",
    "import requests\n",
    "import pandas as pd\n",
    "import re\n",
    "from datetime import datetime"
   ]
  },
  {
   "cell_type": "code",
   "execution_count": 3,
   "id": "b5f33b34",
   "metadata": {},
   "outputs": [],
   "source": [
    "url = \"https://www.popvortex.com/music/charts/top-100-songs.php\""
   ]
  },
  {
   "cell_type": "code",
   "execution_count": 4,
   "id": "6c55e6c7",
   "metadata": {},
   "outputs": [],
   "source": [
    "response = requests.get(url)"
   ]
  },
  {
   "cell_type": "code",
   "execution_count": 5,
   "id": "5a73a34e",
   "metadata": {},
   "outputs": [
    {
     "data": {
      "text/plain": [
       "200"
      ]
     },
     "execution_count": 5,
     "metadata": {},
     "output_type": "execute_result"
    }
   ],
   "source": [
    "response.status_code"
   ]
  },
  {
   "cell_type": "code",
   "execution_count": 6,
   "id": "74c2a8f7",
   "metadata": {},
   "outputs": [],
   "source": [
    "soup = BeautifulSoup(response.content, \"html.parser\")\n",
    "# soup"
   ]
  },
  {
   "cell_type": "code",
   "execution_count": 7,
   "id": "f3673f1d",
   "metadata": {},
   "outputs": [],
   "source": [
    "song_elements=soup.find_all('div', class_='chart-content')"
   ]
  },
  {
   "cell_type": "code",
   "execution_count": 8,
   "id": "d6531036",
   "metadata": {},
   "outputs": [
    {
     "data": {
      "text/html": [
       "<div>\n",
       "<style scoped>\n",
       "    .dataframe tbody tr th:only-of-type {\n",
       "        vertical-align: middle;\n",
       "    }\n",
       "\n",
       "    .dataframe tbody tr th {\n",
       "        vertical-align: top;\n",
       "    }\n",
       "\n",
       "    .dataframe thead th {\n",
       "        text-align: right;\n",
       "    }\n",
       "</style>\n",
       "<table border=\"1\" class=\"dataframe\">\n",
       "  <thead>\n",
       "    <tr style=\"text-align: right;\">\n",
       "      <th></th>\n",
       "      <th>title</th>\n",
       "      <th>artist</th>\n",
       "      <th>genre</th>\n",
       "      <th>release_date</th>\n",
       "    </tr>\n",
       "  </thead>\n",
       "  <tbody>\n",
       "    <tr>\n",
       "      <th>0</th>\n",
       "      <td>TEXAS HOLD 'EM</td>\n",
       "      <td>Beyoncé</td>\n",
       "      <td>Country</td>\n",
       "      <td>11/02/2024</td>\n",
       "    </tr>\n",
       "    <tr>\n",
       "      <th>1</th>\n",
       "      <td>Lose Control</td>\n",
       "      <td>Teddy Swims</td>\n",
       "      <td>Pop</td>\n",
       "      <td>23/06/2023</td>\n",
       "    </tr>\n",
       "    <tr>\n",
       "      <th>2</th>\n",
       "      <td>Beautiful Things</td>\n",
       "      <td>Benson Boone</td>\n",
       "      <td>Pop</td>\n",
       "      <td>19/01/2024</td>\n",
       "    </tr>\n",
       "    <tr>\n",
       "      <th>3</th>\n",
       "      <td>Flowers</td>\n",
       "      <td>Miley Cyrus</td>\n",
       "      <td>Pop</td>\n",
       "      <td>12/01/2023</td>\n",
       "    </tr>\n",
       "    <tr>\n",
       "      <th>4</th>\n",
       "      <td>Turn the Lights Back On</td>\n",
       "      <td>Billy Joel</td>\n",
       "      <td>Pop</td>\n",
       "      <td>01/02/2024</td>\n",
       "    </tr>\n",
       "  </tbody>\n",
       "</table>\n",
       "</div>"
      ],
      "text/plain": [
       "                     title        artist     genre release_date\n",
       "0           TEXAS HOLD 'EM       Beyoncé   Country   11/02/2024\n",
       "1             Lose Control   Teddy Swims       Pop   23/06/2023\n",
       "2         Beautiful Things  Benson Boone       Pop   19/01/2024\n",
       "3                  Flowers   Miley Cyrus       Pop   12/01/2023\n",
       "4  Turn the Lights Back On    Billy Joel       Pop   01/02/2024"
      ]
     },
     "execution_count": 8,
     "metadata": {},
     "output_type": "execute_result"
    }
   ],
   "source": [
    "if not song_elements:\n",
    "    print(\"No song elements found. Please check if the website structure has changed.\")\n",
    "    exit()\n",
    "\n",
    "data = []\n",
    "for i, element in enumerate(song_elements):\n",
    "    title = element.find('cite', class_='title').text.strip()\n",
    "    artist = element.find('em', class_='artist').text.strip()\n",
    "\n",
    "    # Extracting genre\n",
    "    genre = \"Genre not found\"\n",
    "    ul_tag = element.find('ul')\n",
    "    if ul_tag:\n",
    "        for li_tag in ul_tag.find_all('li'):\n",
    "            if 'Genre' in li_tag.text:\n",
    "                genre = li_tag.text.strip().replace('Genre:', '')\n",
    "                break\n",
    "\n",
    "   # Extracting release date using regular expression\n",
    "    release_date_text = \"\"\n",
    "    release_date_match = re.search(r'Release Date: (\\w+ \\d{1,2}, \\d{4})', element.get_text())\n",
    "    if release_date_match:\n",
    "        release_date_text = release_date_match.group(1)\n",
    "        \n",
    "        # Convert release date to date format\n",
    "        release_date = datetime.strptime(release_date_text, \"%B %d, %Y\").strftime(\"%d/%m/%Y\")\n",
    "\n",
    "    data.append([title, artist, genre, release_date])\n",
    "\n",
    "df = pd.DataFrame(data, columns=['title', 'artist', 'genre', 'release_date'])\n",
    "df.head()"
   ]
  },
  {
   "cell_type": "code",
   "execution_count": 9,
   "id": "3373ddad",
   "metadata": {},
   "outputs": [],
   "source": [
    "# first ask for a songfrom user\n",
    "# if title in df then dive new song from df\n",
    "# if title not in df answer politely "
   ]
  },
  {
   "cell_type": "code",
   "execution_count": 17,
   "id": "82d7ab75",
   "metadata": {},
   "outputs": [],
   "source": [
    "def recommend_song(df, input_song):\n",
    "    # Convert input to lowercase for case-insensitive comparison\n",
    "    input_song = input_song.lower()\n",
    "    \n",
    "    # Check if the input song is in the DataFrame\n",
    "    if input_song in df['title'].str.lower().values:\n",
    "        # Get a random song that is not the input song\n",
    "        random_song = df[df['title'].str.lower() != input_song].sample(n=1)\n",
    "        recommended_song = random_song.iloc[0]['title']\n",
    "        recommended_artist = random_song.iloc[0]['artist']\n",
    "        print(f\"Thanks for answering {input_song}. Based on your input, we reccomend {recommended_song} by {recommended_artist}.\")\n",
    "    else:\n",
    "        print(\"We have no recommendation at this time.\")"
   ]
  },
  {
   "cell_type": "code",
   "execution_count": 21,
   "id": "33132e98",
   "metadata": {},
   "outputs": [
    {
     "name": "stdout",
     "output_type": "stream",
     "text": [
      "Enter a song title: beautiful things\n",
      "Thanks for answering beautiful things. Based on your input, we reccomend Love Story (Taylor’s Version) by Taylor Swift.\n"
     ]
    }
   ],
   "source": [
    "user_input = input(\"Enter a song title: \")\n",
    "recommend_song(df, user_input)"
   ]
  }
 ],
 "metadata": {
  "kernelspec": {
   "display_name": "Python 3 (ipykernel)",
   "language": "python",
   "name": "python3"
  },
  "language_info": {
   "codemirror_mode": {
    "name": "ipython",
    "version": 3
   },
   "file_extension": ".py",
   "mimetype": "text/x-python",
   "name": "python",
   "nbconvert_exporter": "python",
   "pygments_lexer": "ipython3",
   "version": "3.11.5"
  }
 },
 "nbformat": 4,
 "nbformat_minor": 5
}
